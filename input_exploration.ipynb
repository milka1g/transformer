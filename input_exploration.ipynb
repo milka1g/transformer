{
 "cells": [
  {
   "cell_type": "code",
   "execution_count": 1,
   "metadata": {},
   "outputs": [],
   "source": [
    "import pandas as pd\n",
    "import numpy as np"
   ]
  },
  {
   "cell_type": "code",
   "execution_count": 10,
   "metadata": {},
   "outputs": [],
   "source": [
    "# https://www.kaggle.com/datasets/googleai/pfam-seed-random-split\n",
    "df_train = pd.read_csv('/goofys/projects/MAI/data/brain-genomics-public/pfam_tiny.train.csv')\n",
    "# df_test = pd.read_csv('/goofys/projects/MAI/data/brain-genomics-public/pfam.test.csv')\n",
    "# df_val = pd.read_csv('/goofys/projects/MAI/data/brain-genomics-public/pfam.valid.csv')"
   ]
  },
  {
   "cell_type": "code",
   "execution_count": 12,
   "metadata": {},
   "outputs": [
    {
     "data": {
      "text/plain": [
       "array([[<Axes: title={'center': 'len'}>]], dtype=object)"
      ]
     },
     "execution_count": 12,
     "metadata": {},
     "output_type": "execute_result"
    },
    {
     "data": {
      "image/png": "[encoded data removed]",
      "text/plain": [
       "<Figure size 640x480 with 1 Axes>"
      ]
     },
     "metadata": {},
     "output_type": "display_data"
    }
   ],
   "source": [
    "df_train['len'] = df_train['seq'].str.len()\n",
    "df_train.hist('len', bins=200)"
   ]
  },
  {
   "cell_type": "code",
   "execution_count": 13,
   "metadata": {},
   "outputs": [
    {
     "name": "stdout",
     "output_type": "stream",
     "text": [
      "[pfam.train.csv] Maximum seq_len: 154\n",
      "[pfam.train.csv] Minimum seq_len: 83\n",
      "[pfam.train.csv] Mean seq_len: 100.70740975300824\n",
      "[pfam.train.csv] Median seq_len: 93.0\n"
     ]
    }
   ],
   "source": [
    "print(\"[pfam.train.csv] Maximum seq_len:\", df_train['len'].max())\n",
    "print(\"[pfam.train.csv] Minimum seq_len:\", df_train['len'].min())\n",
    "print(\"[pfam.train.csv] Mean seq_len:\", df_train['len'].mean())\n",
    "print(\"[pfam.train.csv] Median seq_len:\", df_train['len'].median())"
   ]
  },
  {
   "cell_type": "code",
   "execution_count": 14,
   "metadata": {},
   "outputs": [],
   "source": [
    "# Clip length of AA (amino acid) sequence to e.g. 512\n",
    "df_train['original'] = df_train['seq'].str.slice(0, 512)"
   ]
  },
  {
   "cell_type": "code",
   "execution_count": 15,
   "metadata": {},
   "outputs": [],
   "source": [
    "from sklearn.feature_extraction.text import CountVectorizer\n",
    "\n",
    "bow_scalar = CountVectorizer(analyzer='char')\n",
    "bow_scalar.fit(df_train['original'].values)\n",
    "tokens = bow_scalar.get_feature_names_out()\n",
    "tokens = [t.upper() for t in tokens]"
   ]
  },
  {
   "cell_type": "code",
   "execution_count": 16,
   "metadata": {},
   "outputs": [
    {
     "data": {
      "text/plain": [
       "22"
      ]
     },
     "execution_count": 16,
     "metadata": {},
     "output_type": "execute_result"
    }
   ],
   "source": [
    "len(tokens)"
   ]
  },
  {
   "cell_type": "code",
   "execution_count": 17,
   "metadata": {},
   "outputs": [],
   "source": [
    "import random \n",
    "random.seed(0)\n",
    "\n",
    "def corrupt_sequence(seq, perc = 0.05):\n",
    "    \"\"\"Replace 5% of the AA tokens with random one. \n",
    "\n",
    "    Args:\n",
    "        seq: Sequence to be corrupted.\n",
    "    \"\"\"\n",
    "    seq = list(seq)\n",
    "    for index in random.sample(range(len(seq)), k = int(perc * len(seq))):\n",
    "        corrupted = random.choice([x for x in tokens if x != seq[index]])\n",
    "        seq[index] = corrupted\n",
    "    return ' '.join(seq)"
   ]
  },
  {
   "cell_type": "code",
   "execution_count": 18,
   "metadata": {},
   "outputs": [],
   "source": [
    "df_train['corrupted'] = df_train['original'].apply(corrupt_sequence)"
   ]
  },
  {
   "cell_type": "code",
   "execution_count": 19,
   "metadata": {},
   "outputs": [],
   "source": [
    "df_train['original'] = df_train['original'].str.join(' ')"
   ]
  },
  {
   "cell_type": "code",
   "execution_count": 20,
   "metadata": {},
   "outputs": [
    {
     "data": {
      "text/html": [
       "<div>\n",
       "<style scoped>\n",
       "    .dataframe tbody tr th:only-of-type {\n",
       "        vertical-align: middle;\n",
       "    }\n",
       "\n",
       "    .dataframe tbody tr th {\n",
       "        vertical-align: top;\n",
       "    }\n",
       "\n",
       "    .dataframe thead th {\n",
       "        text-align: right;\n",
       "    }\n",
       "</style>\n",
       "<table border=\"1\" class=\"dataframe\">\n",
       "  <thead>\n",
       "    <tr style=\"text-align: right;\">\n",
       "      <th></th>\n",
       "      <th>seq</th>\n",
       "      <th>label</th>\n",
       "      <th>len</th>\n",
       "      <th>original</th>\n",
       "      <th>corrupted</th>\n",
       "    </tr>\n",
       "  </thead>\n",
       "  <tbody>\n",
       "    <tr>\n",
       "      <th>0</th>\n",
       "      <td>MLRMMMNSKIHRATVTEADLNYVGSITIDEDILDAVGMLPNEKVHI...</td>\n",
       "      <td>PF02261.16</td>\n",
       "      <td>115</td>\n",
       "      <td>M L R M M M N S K I H R A T V T E A D L N Y V ...</td>\n",
       "      <td>M L R M M M N S K I H R A T V T E A D L N Y V ...</td>\n",
       "    </tr>\n",
       "    <tr>\n",
       "      <th>1</th>\n",
       "      <td>LFVYGTLRQGESNHNFLADSQCLGHFETPPHYALYDLGTYPAVIEG...</td>\n",
       "      <td>PF06094.12</td>\n",
       "      <td>109</td>\n",
       "      <td>L F V Y G T L R Q G E S N H N F L A D S Q C L ...</td>\n",
       "      <td>L F V Y G T L R Q G E S N H N F L A D S Q C L ...</td>\n",
       "    </tr>\n",
       "    <tr>\n",
       "      <th>2</th>\n",
       "      <td>PYELMVLLRPDLADDRLEAALERIRNTVVEQGGTITFEKRDTPWGR...</td>\n",
       "      <td>PF01250.17</td>\n",
       "      <td>93</td>\n",
       "      <td>P Y E L M V L L R P D L A D D R L E A A L E R ...</td>\n",
       "      <td>P Y E L M V L L R P D L X D D R L V A A L E R ...</td>\n",
       "    </tr>\n",
       "    <tr>\n",
       "      <th>3</th>\n",
       "      <td>YELFALAKPQLGKKAIASIMKAVASKVMEQGGVVTDIRSYGERKLA...</td>\n",
       "      <td>PF01250.17</td>\n",
       "      <td>93</td>\n",
       "      <td>Y E L F A L A K P Q L G K K A I A S I M K A V ...</td>\n",
       "      <td>Y E L F A L A K P V L G T K A I A S I M K A V ...</td>\n",
       "    </tr>\n",
       "    <tr>\n",
       "      <th>4</th>\n",
       "      <td>QIKLMHAKLHHLRVTQAELDYVGSITIDQALIEKVGILPLEEVNIW...</td>\n",
       "      <td>PF02261.16</td>\n",
       "      <td>116</td>\n",
       "      <td>Q I K L M H A K L H H L R V T Q A E L D Y V G ...</td>\n",
       "      <td>Q I K L M H A K L H H L R V T Q A E L D Y V G ...</td>\n",
       "    </tr>\n",
       "    <tr>\n",
       "      <th>...</th>\n",
       "      <td>...</td>\n",
       "      <td>...</td>\n",
       "      <td>...</td>\n",
       "      <td>...</td>\n",
       "      <td>...</td>\n",
       "    </tr>\n",
       "    <tr>\n",
       "      <th>1574</th>\n",
       "      <td>FQKLPAYIIDFGAWITGRKPMQVPQIQSKIIRAMNIIEFFTTRDFI...</td>\n",
       "      <td>PF03015.19</td>\n",
       "      <td>94</td>\n",
       "      <td>F Q K L P A Y I I D F G A W I T G R K P M Q V ...</td>\n",
       "      <td>F Q K V P A Y I I D F G A W I T G E K P M Q V ...</td>\n",
       "    </tr>\n",
       "    <tr>\n",
       "      <th>1575</th>\n",
       "      <td>LYETMYIIRPDLGEETVDQVINQYQSLLRDQGAEDVQTQHRGKRRL...</td>\n",
       "      <td>PF01250.17</td>\n",
       "      <td>89</td>\n",
       "      <td>L Y E T M Y I I R P D L G E E T V D Q V I N Q ...</td>\n",
       "      <td>L Y E T M Y I I R P D L G E E T V D Q V I N Q ...</td>\n",
       "    </tr>\n",
       "    <tr>\n",
       "      <th>1576</th>\n",
       "      <td>KYEVMYIVKPTLDEEARTAVIAKLHAILTDNGATIDEVNEWGLREL...</td>\n",
       "      <td>PF01250.17</td>\n",
       "      <td>90</td>\n",
       "      <td>K Y E V M Y I V K P T L D E E A R T A V I A K ...</td>\n",
       "      <td>K Y N V M Y I V K P T L D E E A R T A V I A K ...</td>\n",
       "    </tr>\n",
       "    <tr>\n",
       "      <th>1577</th>\n",
       "      <td>AYEILYIIRPDMDEEATNALVDRLSGLAASNGGQNVTVDKWGKRRL...</td>\n",
       "      <td>PF01250.17</td>\n",
       "      <td>90</td>\n",
       "      <td>A Y E I L Y I I R P D M D E E A T N A L V D R ...</td>\n",
       "      <td>A Y E I L Y I I R P D M D E E A T N A L V D R ...</td>\n",
       "    </tr>\n",
       "    <tr>\n",
       "      <th>1578</th>\n",
       "      <td>LDYVPALVADLLAVLHGNAPDSWALLRESMGDMCRLHRFSSGNWRI...</td>\n",
       "      <td>PF03015.19</td>\n",
       "      <td>93</td>\n",
       "      <td>L D Y V P A L V A D L L A V L H G N A P D S W ...</td>\n",
       "      <td>L D Y V P A L V A D L L A V L H G N A P D S W ...</td>\n",
       "    </tr>\n",
       "  </tbody>\n",
       "</table>\n",
       "<p>1579 rows × 5 columns</p>\n",
       "</div>"
      ],
      "text/plain": [
       "                                                    seq       label  len  \\\n",
       "0     MLRMMMNSKIHRATVTEADLNYVGSITIDEDILDAVGMLPNEKVHI...  PF02261.16  115   \n",
       "1     LFVYGTLRQGESNHNFLADSQCLGHFETPPHYALYDLGTYPAVIEG...  PF06094.12  109   \n",
       "2     PYELMVLLRPDLADDRLEAALERIRNTVVEQGGTITFEKRDTPWGR...  PF01250.17   93   \n",
       "3     YELFALAKPQLGKKAIASIMKAVASKVMEQGGVVTDIRSYGERKLA...  PF01250.17   93   \n",
       "4     QIKLMHAKLHHLRVTQAELDYVGSITIDQALIEKVGILPLEEVNIW...  PF02261.16  116   \n",
       "...                                                 ...         ...  ...   \n",
       "1574  FQKLPAYIIDFGAWITGRKPMQVPQIQSKIIRAMNIIEFFTTRDFI...  PF03015.19   94   \n",
       "1575  LYETMYIIRPDLGEETVDQVINQYQSLLRDQGAEDVQTQHRGKRRL...  PF01250.17   89   \n",
       "1576  KYEVMYIVKPTLDEEARTAVIAKLHAILTDNGATIDEVNEWGLREL...  PF01250.17   90   \n",
       "1577  AYEILYIIRPDMDEEATNALVDRLSGLAASNGGQNVTVDKWGKRRL...  PF01250.17   90   \n",
       "1578  LDYVPALVADLLAVLHGNAPDSWALLRESMGDMCRLHRFSSGNWRI...  PF03015.19   93   \n",
       "\n",
       "                                               original  \\\n",
       "0     M L R M M M N S K I H R A T V T E A D L N Y V ...   \n",
       "1     L F V Y G T L R Q G E S N H N F L A D S Q C L ...   \n",
       "2     P Y E L M V L L R P D L A D D R L E A A L E R ...   \n",
       "3     Y E L F A L A K P Q L G K K A I A S I M K A V ...   \n",
       "4     Q I K L M H A K L H H L R V T Q A E L D Y V G ...   \n",
       "...                                                 ...   \n",
       "1574  F Q K L P A Y I I D F G A W I T G R K P M Q V ...   \n",
       "1575  L Y E T M Y I I R P D L G E E T V D Q V I N Q ...   \n",
       "1576  K Y E V M Y I V K P T L D E E A R T A V I A K ...   \n",
       "1577  A Y E I L Y I I R P D M D E E A T N A L V D R ...   \n",
       "1578  L D Y V P A L V A D L L A V L H G N A P D S W ...   \n",
       "\n",
       "                                              corrupted  \n",
       "0     M L R M M M N S K I H R A T V T E A D L N Y V ...  \n",
       "1     L F V Y G T L R Q G E S N H N F L A D S Q C L ...  \n",
       "2     P Y E L M V L L R P D L X D D R L V A A L E R ...  \n",
       "3     Y E L F A L A K P V L G T K A I A S I M K A V ...  \n",
       "4     Q I K L M H A K L H H L R V T Q A E L D Y V G ...  \n",
       "...                                                 ...  \n",
       "1574  F Q K V P A Y I I D F G A W I T G E K P M Q V ...  \n",
       "1575  L Y E T M Y I I R P D L G E E T V D Q V I N Q ...  \n",
       "1576  K Y N V M Y I V K P T L D E E A R T A V I A K ...  \n",
       "1577  A Y E I L Y I I R P D M D E E A T N A L V D R ...  \n",
       "1578  L D Y V P A L V A D L L A V L H G N A P D S W ...  \n",
       "\n",
       "[1579 rows x 5 columns]"
      ]
     },
     "execution_count": 20,
     "metadata": {},
     "output_type": "execute_result"
    }
   ],
   "source": [
    "df_train"
   ]
  },
  {
   "cell_type": "code",
   "execution_count": 43,
   "metadata": {},
   "outputs": [],
   "source": [
    "# Save [original, corrupted, label] to .csv\n",
    "df_train[['original', 'corrupted', 'label']].to_csv('pfam_tiny_1579.train.csv', index=False)"
   ]
  },
  {
   "cell_type": "code",
   "execution_count": 23,
   "metadata": {},
   "outputs": [],
   "source": [
    "ds_raw = pd.read_csv(\"pfam.train.csv\")"
   ]
  },
  {
   "cell_type": "code",
   "execution_count": 24,
   "metadata": {},
   "outputs": [],
   "source": [
    "ds_mini = ds_raw.groupby('label', as_index=False).apply(lambda s: s.sample(min(len(s), 10)))"
   ]
  },
  {
   "cell_type": "code",
   "execution_count": 25,
   "metadata": {},
   "outputs": [],
   "source": [
    "ds_mini[['original', 'corrupted', 'label']].to_csv('pfam_mini.train.csv', index=False)"
   ]
  },
  {
   "cell_type": "code",
   "execution_count": 7,
   "metadata": {},
   "outputs": [
    {
     "data": {
      "text/html": [
       "<div>\n",
       "<style scoped>\n",
       "    .dataframe tbody tr th:only-of-type {\n",
       "        vertical-align: middle;\n",
       "    }\n",
       "\n",
       "    .dataframe tbody tr th {\n",
       "        vertical-align: top;\n",
       "    }\n",
       "\n",
       "    .dataframe thead th {\n",
       "        text-align: right;\n",
       "    }\n",
       "</style>\n",
       "<table border=\"1\" class=\"dataframe\">\n",
       "  <thead>\n",
       "    <tr style=\"text-align: right;\">\n",
       "      <th></th>\n",
       "      <th>seq</th>\n",
       "      <th>label</th>\n",
       "    </tr>\n",
       "  </thead>\n",
       "  <tbody>\n",
       "    <tr>\n",
       "      <th>0</th>\n",
       "      <td>MLRMMMNSKIHRATVTEADLNYVGSITIDEDILDAVGMLPNEKVHI...</td>\n",
       "      <td>PF02261.16</td>\n",
       "    </tr>\n",
       "    <tr>\n",
       "      <th>1</th>\n",
       "      <td>LFVYGTLRQGESNHNFLADSQCLGHFETPPHYALYDLGTYPAVIEG...</td>\n",
       "      <td>PF06094.12</td>\n",
       "    </tr>\n",
       "    <tr>\n",
       "      <th>2</th>\n",
       "      <td>PYELMVLLRPDLADDRLEAALERIRNTVVEQGGTITFEKRDTPWGR...</td>\n",
       "      <td>PF01250.17</td>\n",
       "    </tr>\n",
       "    <tr>\n",
       "      <th>3</th>\n",
       "      <td>YELFALAKPQLGKKAIASIMKAVASKVMEQGGVVTDIRSYGERKLA...</td>\n",
       "      <td>PF01250.17</td>\n",
       "    </tr>\n",
       "    <tr>\n",
       "      <th>4</th>\n",
       "      <td>QIKLMHAKLHHLRVTQAELDYVGSITIDQALIEKVGILPLEEVNIW...</td>\n",
       "      <td>PF02261.16</td>\n",
       "    </tr>\n",
       "    <tr>\n",
       "      <th>...</th>\n",
       "      <td>...</td>\n",
       "      <td>...</td>\n",
       "    </tr>\n",
       "    <tr>\n",
       "      <th>1574</th>\n",
       "      <td>FQKLPAYIIDFGAWITGRKPMQVPQIQSKIIRAMNIIEFFTTRDFI...</td>\n",
       "      <td>PF03015.19</td>\n",
       "    </tr>\n",
       "    <tr>\n",
       "      <th>1575</th>\n",
       "      <td>LYETMYIIRPDLGEETVDQVINQYQSLLRDQGAEDVQTQHRGKRRL...</td>\n",
       "      <td>PF01250.17</td>\n",
       "    </tr>\n",
       "    <tr>\n",
       "      <th>1576</th>\n",
       "      <td>KYEVMYIVKPTLDEEARTAVIAKLHAILTDNGATIDEVNEWGLREL...</td>\n",
       "      <td>PF01250.17</td>\n",
       "    </tr>\n",
       "    <tr>\n",
       "      <th>1577</th>\n",
       "      <td>AYEILYIIRPDMDEEATNALVDRLSGLAASNGGQNVTVDKWGKRRL...</td>\n",
       "      <td>PF01250.17</td>\n",
       "    </tr>\n",
       "    <tr>\n",
       "      <th>1578</th>\n",
       "      <td>LDYVPALVADLLAVLHGNAPDSWALLRESMGDMCRLHRFSSGNWRI...</td>\n",
       "      <td>PF03015.19</td>\n",
       "    </tr>\n",
       "  </tbody>\n",
       "</table>\n",
       "<p>1579 rows × 2 columns</p>\n",
       "</div>"
      ],
      "text/plain": [
       "                                                    seq       label\n",
       "0     MLRMMMNSKIHRATVTEADLNYVGSITIDEDILDAVGMLPNEKVHI...  PF02261.16\n",
       "1     LFVYGTLRQGESNHNFLADSQCLGHFETPPHYALYDLGTYPAVIEG...  PF06094.12\n",
       "2     PYELMVLLRPDLADDRLEAALERIRNTVVEQGGTITFEKRDTPWGR...  PF01250.17\n",
       "3     YELFALAKPQLGKKAIASIMKAVASKVMEQGGVVTDIRSYGERKLA...  PF01250.17\n",
       "4     QIKLMHAKLHHLRVTQAELDYVGSITIDQALIEKVGILPLEEVNIW...  PF02261.16\n",
       "...                                                 ...         ...\n",
       "1574  FQKLPAYIIDFGAWITGRKPMQVPQIQSKIIRAMNIIEFFTTRDFI...  PF03015.19\n",
       "1575  LYETMYIIRPDLGEETVDQVINQYQSLLRDQGAEDVQTQHRGKRRL...  PF01250.17\n",
       "1576  KYEVMYIVKPTLDEEARTAVIAKLHAILTDNGATIDEVNEWGLREL...  PF01250.17\n",
       "1577  AYEILYIIRPDMDEEATNALVDRLSGLAASNGGQNVTVDKWGKRRL...  PF01250.17\n",
       "1578  LDYVPALVADLLAVLHGNAPDSWALLRESMGDMCRLHRFSSGNWRI...  PF03015.19\n",
       "\n",
       "[1579 rows x 2 columns]"
      ]
     },
     "execution_count": 7,
     "metadata": {},
     "output_type": "execute_result"
    }
   ],
   "source": [
    "# ds_raw = pd.read_csv(\"pfam.train.csv\")\n",
    "# tiny = pd.read_csv(\"pfam_tiny.train.csv\")\n",
    "# tiny\n",
    "df_train"
   ]
  },
  {
   "cell_type": "code",
   "execution_count": 9,
   "metadata": {},
   "outputs": [
    {
     "data": {
      "text/plain": [
       "4"
      ]
     },
     "execution_count": 9,
     "metadata": {},
     "output_type": "execute_result"
    }
   ],
   "source": [
    "len(set(df_train['label']))"
   ]
  }
 ],
 "metadata": {
  "kernelspec": {
   "display_name": "ssi",
   "language": "python",
   "name": "python3"
  },
  "language_info": {
   "codemirror_mode": {
    "name": "ipython",
    "version": 3
   },
   "file_extension": ".py",
   "mimetype": "text/x-python",
   "name": "python",
   "nbconvert_exporter": "python",
   "pygments_lexer": "ipython3",
   "version": "3.10.12"
  }
 },
 "nbformat": 4,
 "nbformat_minor": 2
}

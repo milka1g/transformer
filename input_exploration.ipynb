{
 "cells": [
  {
   "cell_type": "code",
   "execution_count": 104,
   "metadata": {},
   "outputs": [],
   "source": [
    "import pandas as pd\n",
    "import numpy as np"
   ]
  },
  {
   "cell_type": "code",
   "execution_count": 105,
   "metadata": {},
   "outputs": [],
   "source": [
    "# https://www.kaggle.com/datasets/googleai/pfam-seed-random-split\n",
    "df_train = pd.read_csv('/goofys/projects/MAI/data/brain-genomics-public/pfam.train.csv')\n",
    "# df_test = pd.read_csv('/goofys/projects/MAI/data/brain-genomics-public/pfam.test.csv')\n",
    "# df_val = pd.read_csv('/goofys/projects/MAI/data/brain-genomics-public/pfam.valid.csv')"
   ]
  },
  {
   "cell_type": "code",
   "execution_count": 106,
   "metadata": {},
   "outputs": [
    {
     "data": {
      "text/plain": [
       "array([[<Axes: title={'center': 'len'}>]], dtype=object)"
      ]
     },
     "execution_count": 106,
     "metadata": {},
     "output_type": "execute_result"
    },
    {
     "data": {
      "image/png": "[encoded data removed]",
      "text/plain": [
       "<Figure size 640x480 with 1 Axes>"
      ]
     },
     "metadata": {},
     "output_type": "display_data"
    }
   ],
   "source": [
    "df_train['len'] = df_train['seq'].str.len()\n",
    "df_train.hist('len', bins=200)"
   ]
  },
  {
   "cell_type": "code",
   "execution_count": 107,
   "metadata": {},
   "outputs": [
    {
     "name": "stdout",
     "output_type": "stream",
     "text": [
      "[pfam.train.csv] Maximum seq_len: 2037\n",
      "[pfam.train.csv] Minimum seq_len: 4\n",
      "[pfam.train.csv] Mean seq_len: 155.37997094063812\n",
      "[pfam.train.csv] Median seq_len: 119.0\n"
     ]
    }
   ],
   "source": [
    "print(\"[pfam.train.csv] Maximum seq_len:\", df_train['len'].max())\n",
    "print(\"[pfam.train.csv] Minimum seq_len:\", df_train['len'].min())\n",
    "print(\"[pfam.train.csv] Mean seq_len:\", df_train['len'].mean())\n",
    "print(\"[pfam.train.csv] Median seq_len:\", df_train['len'].median())"
   ]
  },
  {
   "cell_type": "code",
   "execution_count": 108,
   "metadata": {},
   "outputs": [],
   "source": [
    "# Clip length of AA (amino acid) sequence to e.g. 512\n",
    "df_train['original'] = df_train['seq'].str.slice(0, 512)"
   ]
  },
  {
   "cell_type": "code",
   "execution_count": 109,
   "metadata": {},
   "outputs": [],
   "source": [
    "from sklearn.feature_extraction.text import CountVectorizer\n",
    "\n",
    "bow_scalar = CountVectorizer(analyzer='char')\n",
    "bow_scalar.fit(df_train['original'].values)\n",
    "tokens = bow_scalar.get_feature_names_out()\n",
    "tokens = [t.upper() for t in tokens]"
   ]
  },
  {
   "cell_type": "code",
   "execution_count": 114,
   "metadata": {},
   "outputs": [],
   "source": [
    "import random \n",
    "random.seed(0)\n",
    "\n",
    "def corrupt_sequence(seq, perc = 0.05):\n",
    "    \"\"\"Replace 5% of the AA tokens with random one. \n",
    "\n",
    "    Args:\n",
    "        seq: Sequence to be corrupted.\n",
    "    \"\"\"\n",
    "    seq = list(seq)\n",
    "    for index in random.sample(range(len(seq)), k = int(perc * len(seq))):\n",
    "        corrupted = random.choice([x for x in tokens if x != seq[index]])\n",
    "        seq[index] = corrupted\n",
    "    return ''.join(seq)"
   ]
  },
  {
   "cell_type": "code",
   "execution_count": 115,
   "metadata": {},
   "outputs": [],
   "source": [
    "df_train['corrupted'] = df_train['original'].apply(corrupt_sequence)"
   ]
  },
  {
   "cell_type": "code",
   "execution_count": 116,
   "metadata": {},
   "outputs": [
    {
     "data": {
      "text/plain": [
       "'PHPESRIRLSTRRDAHGMPIPRIESRLGPDAFARLRFMARTCRAILAAAGCAAPFEEFSSADAFSSTHVFGTCRMGHDPMRNVVDGWGRSHRWPNLFVADASLFPSSGGGESPGLTIQALALRT'"
      ]
     },
     "execution_count": 116,
     "metadata": {},
     "output_type": "execute_result"
    }
   ],
   "source": [
    "df_train['original'][0]"
   ]
  },
  {
   "cell_type": "code",
   "execution_count": 117,
   "metadata": {},
   "outputs": [
    {
     "data": {
      "text/plain": [
       "'PHPESQIRLSTRRDAHGMPIPRIESRLGPDAFARLRFMARTCRAILAAASCAAKFEEFSSADAFSSTHVFGTCRMGHDPMRNVVDGWGRSHRWPNLFQADASLFPSSGKGESPOLTIQALALRT'"
      ]
     },
     "execution_count": 117,
     "metadata": {},
     "output_type": "execute_result"
    }
   ],
   "source": [
    "df_train['corrupted'][0]"
   ]
  },
  {
   "cell_type": "code",
   "execution_count": 122,
   "metadata": {},
   "outputs": [],
   "source": [
    "# Save [original, corrupted, label] to .csv\n",
    "df_train[['original', 'corrupted', 'label']].to_csv('pfam.train.csv', index=False)"
   ]
  }
 ],
 "metadata": {
  "kernelspec": {
   "display_name": "ssi",
   "language": "python",
   "name": "python3"
  },
  "language_info": {
   "codemirror_mode": {
    "name": "ipython",
    "version": 3
   },
   "file_extension": ".py",
   "mimetype": "text/x-python",
   "name": "python",
   "nbconvert_exporter": "python",
   "pygments_lexer": "ipython3",
   "version": "3.10.12"
  }
 },
 "nbformat": 4,
 "nbformat_minor": 2
}

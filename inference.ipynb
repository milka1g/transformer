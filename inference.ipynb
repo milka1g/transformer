{
 "cells": [
  {
   "cell_type": "code",
   "execution_count": 1,
   "metadata": {},
   "outputs": [
    {
     "name": "stderr",
     "output_type": "stream",
     "text": [
      "/home/nikola_dev/miniconda3/envs/ssi/lib/python3.10/site-packages/tqdm/auto.py:21: TqdmWarning: IProgress not found. Please update jupyter and ipywidgets. See https://ipywidgets.readthedocs.io/en/stable/user_install.html\n",
      "  from .autonotebook import tqdm as notebook_tqdm\n"
     ]
    }
   ],
   "source": [
    "from pathlib import Path\n",
    "import torch\n",
    "import torch.nn as nn\n",
    "from config import get_weights_file_path, get_config\n",
    "from train import get_model, get_ds, run_validation"
   ]
  },
  {
   "cell_type": "code",
   "execution_count": 2,
   "metadata": {},
   "outputs": [
    {
     "name": "stdout",
     "output_type": "stream",
     "text": [
      "Using device cuda\n",
      "Max length of source sentence: 229\n",
      "Max length of target sentence: 195\n"
     ]
    },
    {
     "data": {
      "text/plain": [
       "<All keys matched successfully>"
      ]
     },
     "execution_count": 2,
     "metadata": {},
     "output_type": "execute_result"
    }
   ],
   "source": [
    "# Define the device \n",
    "device = torch.device(\"cuda\" if torch.cuda.is_available() else \"cpu\")\n",
    "print(f\"Using device {device}\")\n",
    "\n",
    "config = get_config()\n",
    "train_dataloader, val_dataloader, tokenizer_src, tokenizer_tgt = get_ds(config)\n",
    "model = get_model(config, tokenizer_src.get_vocab_size(), tokenizer_tgt.get_vocab_size()).to(device)\n",
    "\n",
    "# Load the pretrained weights\n",
    "model_filename = get_weights_file_path(config, \"19.000000\") # \"5.000000\"\n",
    "state = torch.load(model_filename)\n",
    "model.load_state_dict(state['model_state_dict'])"
   ]
  },
  {
   "cell_type": "code",
   "execution_count": 4,
   "metadata": {},
   "outputs": [
    {
     "name": "stdout",
     "output_type": "stream",
     "text": [
      "--------------------------------------------------------------------------------\n",
      "SOURCE: 'Sergius Ivanich?\n",
      "TARGET: -- Сергей Иваныч?\n",
      "PREDICTED: -- Сергей Иваныч ?\n",
      "--------------------------------------------------------------------------------\n",
      "SOURCE: Anna did not wish to stay to supper, but the master of the house tried to persuade her to do so.\n",
      "TARGET: Анна не хотела оставаться ужинать, но хозяин стал просить ее.\n",
      "PREDICTED: Анна не хотела оставаться ужинать и ждала ее .\n",
      "--------------------------------------------------------------------------------\n",
      "SOURCE: And I can't.'\n",
      "TARGET: И не могу.\n",
      "PREDICTED: И не могу .\n",
      "--------------------------------------------------------------------------------\n",
      "SOURCE: Yes, yes, it is so!' Kitty said to herself quite horrified; and then, 'No, it is impossible, it must not be!\n",
      "TARGET: Да, да, это так!-- с ужасом повторила себе Кити. -- Нет, это не может, не должно быть!\n",
      "PREDICTED: Да , да , это так !-- с ужасом повторила себе Кити . -- Нет , это не может , не должно быть !\n",
      "--------------------------------------------------------------------------------\n",
      "SOURCE: In this respect the thing had happened to him which is said to happen to drunkards. 'The first glass you drive in like a stake, the second flies like a crake, and after the third they fly like wee little birds.'\n",
      "TARGET: С ним случилось в этом отношении то, что, говорят, случается с пьяницами: первая рюмка -- коло'м, вторая соколо'м, а после третьей -- мелкими пташечками.\n",
      "PREDICTED: С ним случилось в этом отношении то , что , говорят , случается с : первая -- коло ' м , -- мелкими пташечками .\n"
     ]
    }
   ],
   "source": [
    "run_validation(model, val_dataloader, tokenizer_src, tokenizer_tgt, config['seq_len'], device, lambda msg: print(msg), 0, None, num_examples=5)"
   ]
  }
 ],
 "metadata": {
  "kernelspec": {
   "display_name": "ssi",
   "language": "python",
   "name": "python3"
  },
  "language_info": {
   "codemirror_mode": {
    "name": "ipython",
    "version": 3
   },
   "file_extension": ".py",
   "mimetype": "text/x-python",
   "name": "python",
   "nbconvert_exporter": "python",
   "pygments_lexer": "ipython3",
   "version": "3.10.12"
  }
 },
 "nbformat": 4,
 "nbformat_minor": 2
}
